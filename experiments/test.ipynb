{
 "cells": [
  {
   "cell_type": "markdown",
   "id": "daf15a91",
   "metadata": {},
   "source": [
    "# Testing "
   ]
  },
  {
   "cell_type": "code",
   "execution_count": 3,
   "id": "2f7177e8",
   "metadata": {},
   "outputs": [
    {
     "name": "stdout",
     "output_type": "stream",
     "text": [
      "Fri May 30 20:16:08 2025       \n",
      "+-----------------------------------------------------------------------------------------+\n",
      "| NVIDIA-SMI 572.70                 Driver Version: 572.70         CUDA Version: 12.8     |\n",
      "|-----------------------------------------+------------------------+----------------------+\n",
      "| GPU  Name                  Driver-Model | Bus-Id          Disp.A | Volatile Uncorr. ECC |\n",
      "| Fan  Temp   Perf          Pwr:Usage/Cap |           Memory-Usage | GPU-Util  Compute M. |\n",
      "|                                         |                        |               MIG M. |\n",
      "|=========================================+========================+======================|\n",
      "|   0  NVIDIA GeForce RTX 4080      WDDM  |   00000000:01:00.0  On |                  N/A |\n",
      "|  0%   44C    P8              6W /  320W |    1548MiB /  16376MiB |      2%      Default |\n",
      "|                                         |                        |                  N/A |\n",
      "+-----------------------------------------+------------------------+----------------------+\n",
      "                                                                                         \n",
      "+-----------------------------------------------------------------------------------------+\n",
      "| Processes:                                                                              |\n",
      "|  GPU   GI   CI              PID   Type   Process name                        GPU Memory |\n",
      "|        ID   ID                                                               Usage      |\n",
      "|=========================================================================================|\n",
      "|    0   N/A  N/A            1160    C+G   ...cord\\app-1.0.9193\\Discord.exe      N/A      |\n",
      "|    0   N/A  N/A            2588    C+G   C:\\Windows\\explorer.exe               N/A      |\n",
      "|    0   N/A  N/A            2760    C+G   ...Chrome\\Application\\chrome.exe      N/A      |\n",
      "|    0   N/A  N/A            5448    C+G   ...y\\StartMenuExperienceHost.exe      N/A      |\n",
      "|    0   N/A  N/A            8992    C+G   ...5n1h2txyewy\\TextInputHost.exe      N/A      |\n",
      "|    0   N/A  N/A            9468    C+G   ....0.3240.92\\msedgewebview2.exe      N/A      |\n",
      "|    0   N/A  N/A           10612    C+G   ...xyewy\\ShellExperienceHost.exe      N/A      |\n",
      "|    0   N/A  N/A           13144    C+G   ...Chrome\\Application\\chrome.exe      N/A      |\n",
      "|    0   N/A  N/A           14164    C+G   ...ice\\root\\Office16\\WINWORD.EXE      N/A      |\n",
      "|    0   N/A  N/A           14780    C+G   ...indows\\System32\\ShellHost.exe      N/A      |\n",
      "|    0   N/A  N/A           20000    C+G   ...IA app\\CEF\\NVIDIA Overlay.exe      N/A      |\n",
      "|    0   N/A  N/A           20060    C+G   ...yb3d8bbwe\\Microsoft.Notes.exe      N/A      |\n",
      "|    0   N/A  N/A           22636    C+G   ...em32\\ApplicationFrameHost.exe      N/A      |\n",
      "|    0   N/A  N/A           23520    C+G   ...lus\\logioptionsplus_agent.exe      N/A      |\n",
      "|    0   N/A  N/A           24008    C+G   ...IA app\\CEF\\NVIDIA Overlay.exe      N/A      |\n",
      "|    0   N/A  N/A           24180    C+G   ...ms\\Microsoft VS Code\\Code.exe      N/A      |\n",
      "|    0   N/A  N/A           24464    C+G   ....0.3240.92\\msedgewebview2.exe      N/A      |\n",
      "|    0   N/A  N/A           24880    C+G   ...8bbwe\\PhoneExperienceHost.exe      N/A      |\n",
      "|    0   N/A  N/A           25916    C+G   ..._cw5n1h2txyewy\\SearchHost.exe      N/A      |\n",
      "|    0   N/A  N/A           27672    C+G   ...m\\108.0.1.0\\GoogleDriveFS.exe      N/A      |\n",
      "+-----------------------------------------------------------------------------------------+\n"
     ]
    }
   ],
   "source": [
    "!nvidia-smi"
   ]
  },
  {
   "cell_type": "code",
   "execution_count": 2,
   "id": "fa615cc4",
   "metadata": {},
   "outputs": [],
   "source": [
    "from diffusers import StableDiffusionImg2ImgPipeline\n",
    "import torch, argparse, pathlib, random, PIL.Image as Image\n",
    "\n",
    "def main(inp, out):\n",
    "    pipe = StableDiffusionImg2ImgPipeline.from_pretrained(\n",
    "        \"runwayml/stable-diffusion-v1-5\",\n",
    "        torch_dtype=torch.float16       # use fp16 on your 4080\n",
    "    ).to(\"cuda\")\n",
    "\n",
    "    prompts = pathlib.Path(\"prompts.txt\").read_text().strip().splitlines()\n",
    "    prompt  = random.choice(prompts)\n",
    "\n",
    "    init = Image.open(inp).convert(\"RGB\").resize((512, 512))\n",
    "    image = pipe(\n",
    "        prompt,\n",
    "        image=init,\n",
    "        strength=0.65,          # 0 = keep photo, 1 = overwrite it\n",
    "        guidance_scale=7.5      # “creativity slider”\n",
    "    ).images[0]\n",
    "\n",
    "    pathlib.Path(out).parent.mkdir(parents=True, exist_ok=True)\n",
    "    image.save(out)\n",
    "    print(f\"✨  saved → {out}\")"
   ]
  },
  {
   "cell_type": "code",
   "execution_count": null,
   "id": "57d43d8f",
   "metadata": {},
   "outputs": [],
   "source": []
  }
 ],
 "metadata": {
  "kernelspec": {
   "display_name": "caro",
   "language": "python",
   "name": "python3"
  },
  "language_info": {
   "codemirror_mode": {
    "name": "ipython",
    "version": 3
   },
   "file_extension": ".py",
   "mimetype": "text/x-python",
   "name": "python",
   "nbconvert_exporter": "python",
   "pygments_lexer": "ipython3",
   "version": "3.10.16"
  }
 },
 "nbformat": 4,
 "nbformat_minor": 5
}
